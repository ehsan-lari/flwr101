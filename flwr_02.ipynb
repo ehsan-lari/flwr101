{
  "nbformat": 4,
  "nbformat_minor": 0,
  "metadata": {
    "colab": {
      "provenance": [],
      "authorship_tag": "ABX9TyN3jTTJsfgnsA1iEbiQbQuK",
      "include_colab_link": true
    },
    "kernelspec": {
      "name": "python3",
      "display_name": "Python 3"
    },
    "language_info": {
      "name": "python"
    }
  },
  "cells": [
    {
      "cell_type": "markdown",
      "metadata": {
        "id": "view-in-github",
        "colab_type": "text"
      },
      "source": [
        "<a href=\"https://colab.research.google.com/github/ehsan-lari/flwr101/blob/main/flwr_02.ipynb\" target=\"_parent\"><img src=\"https://colab.research.google.com/assets/colab-badge.svg\" alt=\"Open In Colab\"/></a>"
      ]
    },
    {
      "cell_type": "markdown",
      "source": [
        "# Learning flwr --> Fashion-MNIST Dataset\n",
        "---"
      ],
      "metadata": {
        "id": "BkBZM2EkKY87"
      }
    },
    {
      "cell_type": "markdown",
      "source": [
        "## 1. Preparation"
      ],
      "metadata": {
        "id": "LjuCcwBSKl_Y"
      }
    },
    {
      "cell_type": "code",
      "source": [
        "%pip install -q flwr[simulation] -q flwr-datasets[vision]"
      ],
      "metadata": {
        "id": "_5w0lIxGhMAC"
      },
      "execution_count": null,
      "outputs": []
    },
    {
      "cell_type": "code",
      "execution_count": null,
      "metadata": {
        "id": "GPAm0Yjhg9tm"
      },
      "outputs": [],
      "source": [
        "import flwr"
      ]
    },
    {
      "cell_type": "code",
      "source": [
        "from flwr_datasets import FederatedDataset\n",
        "from flwr_datasets.partitioner import IidPartitioner, DirichletPartitioner"
      ],
      "metadata": {
        "id": "KLc1SdXJKqQC"
      },
      "execution_count": null,
      "outputs": []
    },
    {
      "cell_type": "code",
      "source": [
        "fds = FederatedDataset(\n",
        "    dataset=\"zalando-datasets/fashion_mnist\",\n",
        "    partitioners={\n",
        "        \"train\": DirichletPartitioner(\n",
        "            num_partitions=10,\n",
        "            partition_by=\"label\",\n",
        "            alpha=0.4,\n",
        "            seed=42,\n",
        "            min_partition_size=0,\n",
        "        ),\n",
        "    },\n",
        ")"
      ],
      "metadata": {
        "id": "cXWFbfnqh2na"
      },
      "execution_count": null,
      "outputs": []
    },
    {
      "cell_type": "code",
      "source": [
        "NO_PARTITION = 1\n",
        "\n",
        "partition = fds.load_partition(NO_PARTITION, \"train\")\n",
        "\n",
        "print(f\"Partition {NO_PARTITION} size: {partition.shape}\")"
      ],
      "metadata": {
        "id": "BdMKzz7_p-tF"
      },
      "execution_count": null,
      "outputs": []
    },
    {
      "cell_type": "code",
      "source": [
        "centralized_dataset = fds.load_split(\"test\")"
      ],
      "metadata": {
        "id": "NpDD7Tx8qwe7"
      },
      "execution_count": null,
      "outputs": []
    },
    {
      "cell_type": "code",
      "source": [
        "partitioner = fds.partitioners[\"train\"]"
      ],
      "metadata": {
        "id": "pNVstwZuUs95"
      },
      "execution_count": null,
      "outputs": []
    },
    {
      "cell_type": "code",
      "source": [
        "from flwr_datasets.visualization import plot_label_distributions\n",
        "\n",
        "fig, ax, df = plot_label_distributions(\n",
        "    partitioner,\n",
        "    label_name=\"label\",\n",
        "    plot_type=\"heatmap\",\n",
        "    size_unit=\"absolute\",\n",
        "    partition_id_axis=\"x\",\n",
        "    legend=True,\n",
        "    verbose_labels=True,\n",
        "    title=\"Per Partition Labels Distribution\",\n",
        "    plot_kwargs={\"annot\": True},\n",
        ")"
      ],
      "metadata": {
        "id": "YRGJwhobUVGH"
      },
      "execution_count": null,
      "outputs": []
    },
    {
      "cell_type": "code",
      "source": [
        "# torch.randint(partition.shape[0], (1,10))"
      ],
      "metadata": {
        "id": "0z2ZZipD9INi"
      },
      "execution_count": null,
      "outputs": []
    },
    {
      "cell_type": "code",
      "source": [
        "import matplotlib.pyplot as plt\n",
        "import torch\n",
        "\n",
        "NO_IMG = torch.randint(0, partition.shape[0], (1,)).item()\n",
        "\n",
        "image = partition[NO_IMG][\"image\"]\n",
        "label = partition[NO_IMG][\"label\"]\n",
        "\n",
        "class_names = [\"T-shirt/top\", \"Trouser\", \"Pullover\", \"Dress\", \"Coat\", \"Sandal\", \"Shirt\", \"Sneaker\", \"Bag\", \"Ankle boot\"]\n",
        "\n",
        "plt.imshow(image)\n",
        "plt.title(f\"Label: {class_names[label]}\").set_fontsize(12)\n",
        "plt.axis(\"off\")\n",
        "plt.show()"
      ],
      "metadata": {
        "id": "uokyCwm4llek"
      },
      "execution_count": null,
      "outputs": []
    },
    {
      "cell_type": "code",
      "source": [
        "from torch.utils.data import DataLoader\n",
        "from torchvision.transforms import ToTensor"
      ],
      "metadata": {
        "id": "lFd26UEIlIup"
      },
      "execution_count": null,
      "outputs": []
    },
    {
      "cell_type": "code",
      "source": [
        "transforms = ToTensor()"
      ],
      "metadata": {
        "id": "30IoWnI9lMXU"
      },
      "execution_count": null,
      "outputs": []
    },
    {
      "cell_type": "code",
      "source": [
        "BATCH_SIZE = 32\n",
        "\n",
        "def apply_transforms(batch):\n",
        "    batch[\"image\"] = [transforms(img) for img in batch[\"image\"]]\n",
        "    return batch\n",
        "\n",
        "partition_torch = partition.with_transform(apply_transforms)\n",
        "dataloader = DataLoader(partition_torch, batch_size=BATCH_SIZE)"
      ],
      "metadata": {
        "id": "oWINDpVhm75E"
      },
      "execution_count": null,
      "outputs": []
    },
    {
      "cell_type": "code",
      "source": [
        "train_data_loader = DataLoader(dataset=partition_torch,\n",
        "                               batch_size=1,\n",
        "                               shuffle=True)\n",
        "test_data_loader = DataLoader(dataset=centralized_dataset,\n",
        "                              batch_size=1,\n",
        "                              shuffle=False)"
      ],
      "metadata": {
        "id": "aJ0jLKwEti0G"
      },
      "execution_count": null,
      "outputs": []
    },
    {
      "cell_type": "code",
      "source": [
        "partition_train_test = partition.train_test_split(test_size=0.2, seed=42)\n",
        "partition_train = partition_train_test[\"train\"]\n",
        "partition_test = partition_train_test[\"test\"]"
      ],
      "metadata": {
        "id": "yBBvONSgnoVf"
      },
      "execution_count": null,
      "outputs": []
    },
    {
      "cell_type": "code",
      "source": [
        "import torch\n",
        "from torch import nn\n",
        "from torch.nn import Sequential, Conv2d, ReLU, MaxPool2d, Flatten, Linear"
      ],
      "metadata": {
        "id": "dCDrEmFqpQUo"
      },
      "execution_count": null,
      "outputs": []
    },
    {
      "cell_type": "code",
      "source": [
        "class TinyVGG(nn.Module):\n",
        "    def __init__(self,\n",
        "                 input_shape: int,\n",
        "                 hidden_units: int,\n",
        "                 output_shape: int) -> None:\n",
        "        super().__init__()\n",
        "        self.conv_block_1 = nn.Sequential(\n",
        "            nn.Conv2d(in_channels=input_shape,\n",
        "                      out_channels=hidden_units,\n",
        "                      kernel_size=3,\n",
        "                      stride=1,\n",
        "                      padding=0),\n",
        "            nn.ReLU(),\n",
        "            nn.Conv2d(in_channels=hidden_units,\n",
        "                      out_channels=hidden_units,\n",
        "                      kernel_size=3,\n",
        "                      stride=1,\n",
        "                      padding=0),\n",
        "            nn.ReLU(),\n",
        "            nn.MaxPool2d(kernel_size=2,\n",
        "                         stride=2)\n",
        "        )\n",
        "        self.conv_block_2 = nn.Sequential(\n",
        "            nn.Conv2d(in_channels=hidden_units,\n",
        "                      out_channels=hidden_units,\n",
        "                      kernel_size=3,\n",
        "                      stride=1,\n",
        "                      padding=0),\n",
        "            nn.ReLU(),\n",
        "            nn.Conv2d(in_channels=hidden_units,\n",
        "                      out_channels=hidden_units,\n",
        "                      kernel_size=3,\n",
        "                      stride=1,\n",
        "                      padding=0),\n",
        "            nn.ReLU(),\n",
        "            nn.MaxPool2d(kernel_size=2,\n",
        "                         stride=2)\n",
        "        )\n",
        "        self.classifier = nn.Sequential(\n",
        "            nn.Flatten(),\n",
        "            nn.Linear(in_features=hidden_units*13*13,\n",
        "                      out_features=output_shape)\n",
        "        )\n",
        "\n",
        "    def forward(self, x: torch.Tensor):\n",
        "      # x = self.conv_block_1(x)\n",
        "      # x = self.conv_block_2(x)\n",
        "      # x = self.classifier(x)\n",
        "      # return x\n",
        "      return self.classifier(self.conv_block_2(self.conv_block_1(x)))"
      ],
      "metadata": {
        "id": "Wm9j9Oevr8pj"
      },
      "execution_count": null,
      "outputs": []
    },
    {
      "cell_type": "code",
      "source": [
        "def train_step(model: torch.nn.Module,\n",
        "               dataloader: torch.utils.data.DataLoader,\n",
        "               loss_fn: torch.nn.Module,\n",
        "               optimizer: torch.optim.Optimizer):\n",
        "    model.train()\n",
        "    train_loss, train_acc = 0, 0\n",
        "\n",
        "    for batch, (X, y) in enumerate(dataloader):\n",
        "      y_pred = model(X)\n",
        "      loss = loss_fn(y_pred, y)\n",
        "      train_loss += loss.item()\n",
        "      optimizer.zero_grad()\n",
        "      loss.backward()\n",
        "      optimizer.step()\n",
        "\n",
        "      y_pred_class = torch.argmax(torch.softmax(y_pred, dim=1), dim=1)\n",
        "      train_acc += (y_pred_class == y).sum().item()/len(y_pred)\n",
        "\n",
        "    train_loss = train_loss / len(dataloader)\n",
        "    train_acc = train_acc / len(dataloader)\n",
        "    return train_loss, train_acc"
      ],
      "metadata": {
        "id": "wduEQQ45sTCY"
      },
      "execution_count": null,
      "outputs": []
    },
    {
      "cell_type": "code",
      "source": [
        "def test_step(model: torch.nn.Module,\n",
        "               dataloader: torch.utils.data.DataLoader,\n",
        "               loss_fn: torch.nn.Module):\n",
        "\n",
        "    model.eval()\n",
        "    test_loss, test_acc = 0, 0\n",
        "\n",
        "    with torch.inference_mode():\n",
        "\n",
        "      for batch, (X, y) in enumerate(dataloader):\n",
        "        y_test = model(X)\n",
        "        loss = loss_fn(y_test, y)\n",
        "        test_loss += loss.item()\n",
        "\n",
        "        y_test_class = torch.argmax(torch.softmax(y_test, dim=1), dim=1)\n",
        "        test_acc += (y_test_class == y).sum().item()/len(y_test)\n",
        "\n",
        "    test_loss = test_loss / len(dataloader)\n",
        "    test_acc = test_acc / len(dataloader)\n",
        "    return test_loss, test_acc"
      ],
      "metadata": {
        "id": "DapY2CsSscfR"
      },
      "execution_count": null,
      "outputs": []
    },
    {
      "cell_type": "code",
      "source": [
        "from tqdm.auto import tqdm\n",
        "\n",
        "def train(model: torch.nn.Module,\n",
        "          train_data_loader,\n",
        "          test_data_loader,\n",
        "          optimizer,\n",
        "          loss_fn = nn.CrossEntropyLoss(),\n",
        "          epochs: int = 5):\n",
        "\n",
        "  results = {\"train_loss\": [],\n",
        "             \"train_acc\": [],\n",
        "             \"test_loss\": [],\n",
        "             \"test_acc\": []}\n",
        "\n",
        "  for epoch in tqdm(range(epochs)):\n",
        "    train_loss, train_acc = train_step(model=model,\n",
        "                                       dataloader=train_data_loader,\n",
        "                                       loss_fn=loss_fn,\n",
        "                                       optimizer=optimizer)\n",
        "    test_loss, test_acc = test_step(model=model,\n",
        "                                    dataloader=test_data_loader,\n",
        "                                    loss_fn=loss_fn)\n",
        "    print(f\"Epoch: {epoch} | Train loss: {train_loss:.4f} | Train acc: {train_acc:.4f} | Test loss: {test_loss:.4f} | Test acc: {test_acc:.4f}\")\n",
        "\n",
        "    results[\"train_loss\"].append(train_loss)\n",
        "    results[\"train_acc\"].append(train_acc)\n",
        "    results[\"test_loss\"].append(test_loss)\n",
        "    results[\"test_acc\"].append(test_acc)\n",
        "\n",
        "  return results"
      ],
      "metadata": {
        "id": "yaOwWVWssgI3"
      },
      "execution_count": null,
      "outputs": []
    },
    {
      "cell_type": "code",
      "source": [
        "torch.manual_seed(42)\n",
        "\n",
        "NUM_EPOCHS = 10\n",
        "\n",
        "model_0 = TinyVGG(input_shape=3,\n",
        "                  hidden_units=10,\n",
        "                  output_shape=len(class_names))\n",
        "\n",
        "optimizer = torch.optim.Adam(params=model_0.parameters(),\n",
        "                             lr=0.001)\n",
        "loss_fn = nn.CrossEntropyLoss()\n",
        "\n",
        "from timeit import default_timer as timer\n",
        "start_time = timer()\n",
        "\n",
        "model_0_results = train(model=model_0,\n",
        "                         train_data_loader=train_data_loader,\n",
        "                         test_data_loader=test_data_loader,\n",
        "                         optimizer=optimizer,\n",
        "                         loss_fn=loss_fn,\n",
        "                         epochs=NUM_EPOCHS)\n",
        "\n",
        "end_time = timer()\n",
        "print(f\"Total training time: {end_time-start_time:.3f} seconds\")"
      ],
      "metadata": {
        "id": "p30GSfH7smY_"
      },
      "execution_count": null,
      "outputs": []
    }
  ]
}