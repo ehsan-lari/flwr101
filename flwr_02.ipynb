{
  "nbformat": 4,
  "nbformat_minor": 0,
  "metadata": {
    "colab": {
      "provenance": [],
      "authorship_tag": "ABX9TyOKS29y0vD68Gku1bEwPUcO",
      "include_colab_link": true
    },
    "kernelspec": {
      "name": "python3",
      "display_name": "Python 3"
    },
    "language_info": {
      "name": "python"
    }
  },
  "cells": [
    {
      "cell_type": "markdown",
      "metadata": {
        "id": "view-in-github",
        "colab_type": "text"
      },
      "source": [
        "<a href=\"https://colab.research.google.com/github/ehsan-lari/flwr101/blob/main/flwr_02.ipynb\" target=\"_parent\"><img src=\"https://colab.research.google.com/assets/colab-badge.svg\" alt=\"Open In Colab\"/></a>"
      ]
    },
    {
      "cell_type": "code",
      "source": [
        "%pip -q install flwr[simulation] flwr-datasets[vision]"
      ],
      "metadata": {
        "id": "_5w0lIxGhMAC"
      },
      "execution_count": null,
      "outputs": []
    },
    {
      "cell_type": "code",
      "execution_count": null,
      "metadata": {
        "id": "GPAm0Yjhg9tm"
      },
      "outputs": [],
      "source": [
        "import flwr"
      ]
    },
    {
      "cell_type": "code",
      "source": [
        "from flwr_datasets import FederatedDataset\n",
        "from flwr_datasets.partitioner import IidPartitioner, DirichletPartitioner\n",
        "\n",
        "fds = FederatedDataset(\n",
        "    dataset=\"cifar10\",\n",
        "    partitioners={\n",
        "        \"train\": DirichletPartitioner(\n",
        "            num_partitions=10,\n",
        "            partition_by=\"label\",\n",
        "            alpha=0.4,\n",
        "            seed=42,\n",
        "            min_partition_size=0,\n",
        "        ),\n",
        "    },\n",
        ")\n",
        "\n",
        "# Load the first partition of the \"train\" split\n",
        "partition = fds.load_partition(0, \"train\")\n",
        "# You can access the whole \"test\" split of the base dataset (it hasn't been partitioned)\n",
        "centralized_dataset = fds.load_split(\"test\")"
      ],
      "metadata": {
        "id": "cXWFbfnqh2na"
      },
      "execution_count": null,
      "outputs": []
    },
    {
      "cell_type": "code",
      "source": [
        "partitioner = fds.partitioners[\"train\"]"
      ],
      "metadata": {
        "id": "pNVstwZuUs95"
      },
      "execution_count": null,
      "outputs": []
    },
    {
      "cell_type": "code",
      "source": [
        "from flwr_datasets.visualization import plot_label_distributions\n",
        "\n",
        "fig, ax, df = plot_label_distributions(\n",
        "    partitioner,\n",
        "    label_name=\"label\",\n",
        "    plot_type=\"heatmap\",\n",
        "    size_unit=\"absolute\",\n",
        "    partition_id_axis=\"x\",\n",
        "    legend=True,\n",
        "    verbose_labels=True,\n",
        "    title=\"Per Partition Labels Distribution\",\n",
        "    plot_kwargs={\"annot\": True},\n",
        ")"
      ],
      "metadata": {
        "id": "YRGJwhobUVGH"
      },
      "execution_count": null,
      "outputs": []
    }
  ]
}